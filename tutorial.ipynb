{
 "cells": [
  {
   "cell_type": "code",
   "execution_count": 2,
   "metadata": {},
   "outputs": [],
   "source": [
    "from ipywidgets import interact"
   ]
  },
  {
   "cell_type": "code",
   "execution_count": 3,
   "metadata": {},
   "outputs": [],
   "source": [
    "def square(x):\n",
    "    return x*x"
   ]
  },
  {
   "cell_type": "code",
   "execution_count": 4,
   "metadata": {},
   "outputs": [
    {
     "data": {
      "application/vnd.jupyter.widget-view+json": {
       "model_id": "54feb46f00c04e6db92e56121aed9c78",
       "version_major": 2,
       "version_minor": 0
      },
      "text/plain": [
       "interactive(children=(IntSlider(value=10, description='x', max=30, min=-10), Output()), _dom_classes=('widget-…"
      ]
     },
     "metadata": {},
     "output_type": "display_data"
    }
   ],
   "source": [
    "interact(square, x=10);"
   ]
  },
  {
   "cell_type": "code",
   "execution_count": 6,
   "metadata": {},
   "outputs": [
    {
     "data": {
      "application/vnd.jupyter.widget-view+json": {
       "model_id": "7e7cbcf974fd4c85b5d1acb60f16d6f0",
       "version_major": 2,
       "version_minor": 0
      },
      "text/plain": [
       "interactive(children=(IntSlider(value=50, description='x', step=10), Output()), _dom_classes=('widget-interact…"
      ]
     },
     "metadata": {},
     "output_type": "display_data"
    }
   ],
   "source": [
    "interact(square, x=(0,100,10));"
   ]
  },
  {
   "cell_type": "code",
   "execution_count": 9,
   "metadata": {},
   "outputs": [],
   "source": [
    "def friends(name,number):    \n",
    "    return '{} has {} friends!'.format(name, number)"
   ]
  },
  {
   "cell_type": "code",
   "execution_count": 10,
   "metadata": {},
   "outputs": [
    {
     "data": {
      "application/vnd.jupyter.widget-view+json": {
       "model_id": "64cedc6835d14e4cb2586ade8519db79",
       "version_major": 2,
       "version_minor": 0
      },
      "text/plain": [
       "interactive(children=(Text(value='Sam', description='name'), IntSlider(value=7, description='number', max=10, …"
      ]
     },
     "metadata": {},
     "output_type": "display_data"
    }
   ],
   "source": [
    "interact(friends, name='Sam', number=(5, 10));"
   ]
  },
  {
   "cell_type": "code",
   "execution_count": 11,
   "metadata": {},
   "outputs": [
    {
     "data": {
      "application/vnd.jupyter.widget-view+json": {
       "model_id": "5480d6697a7d40df82ed565f84ab6576",
       "version_major": 2,
       "version_minor": 0
      },
      "text/plain": [
       "interactive(children=(Text(value='Sam', description='name'), Dropdown(description='number', options={'One': 1,…"
      ]
     },
     "metadata": {},
     "output_type": "display_data"
    }
   ],
   "source": [
    "interact(friends, name='Sam', number={'One': 1, 'Five': 5, 'Ten': 10});"
   ]
  },
  {
   "cell_type": "code",
   "execution_count": 14,
   "metadata": {},
   "outputs": [
    {
     "name": "stdout",
     "output_type": "stream",
     "text": [
      "Requirement already satisfied: nbinteract in c:\\users\\manu\\appdata\\local\\programs\\python\\python38-32\\lib\\site-packages (0.2.5)\n",
      "Requirement already satisfied: nbconvert<6,>=5.3 in c:\\users\\manu\\appdata\\local\\programs\\python\\python38-32\\lib\\site-packages (from nbinteract) (5.6.1)\n",
      "Requirement already satisfied: Jinja2<3,>=2.10 in c:\\users\\manu\\appdata\\local\\programs\\python\\python38-32\\lib\\site-packages (from nbinteract) (2.11.1)\n",
      "Requirement already satisfied: nbformat<5,>=4.4.0 in c:\\users\\manu\\appdata\\local\\programs\\python\\python38-32\\lib\\site-packages (from nbinteract) (4.4.0)\n",
      "Requirement already satisfied: docopt<1,>=0.6.2 in c:\\users\\manu\\appdata\\local\\programs\\python\\python38-32\\lib\\site-packages (from nbinteract) (0.6.2)\n",
      "Requirement already satisfied: bqplot==0.11.0 in c:\\users\\manu\\appdata\\local\\programs\\python\\python38-32\\lib\\site-packages (from nbinteract) (0.11.0)\n",
      "Requirement already satisfied: numpy<2,>=1 in c:\\users\\manu\\appdata\\local\\programs\\python\\python38-32\\lib\\site-packages (from nbinteract) (1.18.2)\n",
      "Requirement already satisfied: traitlets<5,>=4.3 in c:\\users\\manu\\appdata\\local\\programs\\python\\python38-32\\lib\\site-packages (from nbinteract) (4.3.3)\n",
      "Requirement already satisfied: toolz<1,>=0.8 in c:\\users\\manu\\appdata\\local\\programs\\python\\python38-32\\lib\\site-packages (from nbinteract) (0.10.0)\n",
      "Requirement already satisfied: IPython<8,>=6 in c:\\users\\manu\\appdata\\local\\programs\\python\\python38-32\\lib\\site-packages (from nbinteract) (7.13.0)\n",
      "Requirement already satisfied: ipywidgets<8,>=7.5.0 in c:\\users\\manu\\appdata\\local\\programs\\python\\python38-32\\lib\\site-packages (from nbinteract) (7.5.1)\n",
      "Requirement already satisfied: testpath in c:\\users\\manu\\appdata\\local\\programs\\python\\python38-32\\lib\\site-packages (from nbconvert<6,>=5.3->nbinteract) (0.4.4)\n",
      "Requirement already satisfied: pygments in c:\\users\\manu\\appdata\\local\\programs\\python\\python38-32\\lib\\site-packages (from nbconvert<6,>=5.3->nbinteract) (2.6.1)\n",
      "Requirement already satisfied: bleach in c:\\users\\manu\\appdata\\local\\programs\\python\\python38-32\\lib\\site-packages (from nbconvert<6,>=5.3->nbinteract) (3.1.4)\n",
      "Requirement already satisfied: mistune<2,>=0.8.1 in c:\\users\\manu\\appdata\\local\\programs\\python\\python38-32\\lib\\site-packages (from nbconvert<6,>=5.3->nbinteract) (0.8.4)\n",
      "Requirement already satisfied: jupyter-core in c:\\users\\manu\\appdata\\local\\programs\\python\\python38-32\\lib\\site-packages (from nbconvert<6,>=5.3->nbinteract) (4.6.3)\n",
      "Requirement already satisfied: pandocfilters>=1.4.1 in c:\\users\\manu\\appdata\\local\\programs\\python\\python38-32\\lib\\site-packages (from nbconvert<6,>=5.3->nbinteract) (1.4.2)\n",
      "Requirement already satisfied: defusedxml in c:\\users\\manu\\appdata\\local\\programs\\python\\python38-32\\lib\\site-packages (from nbconvert<6,>=5.3->nbinteract) (0.6.0)\n",
      "Requirement already satisfied: entrypoints>=0.2.2 in c:\\users\\manu\\appdata\\local\\programs\\python\\python38-32\\lib\\site-packages (from nbconvert<6,>=5.3->nbinteract) (0.3)\n",
      "Requirement already satisfied: MarkupSafe>=0.23 in c:\\users\\manu\\appdata\\local\\programs\\python\\python38-32\\lib\\site-packages (from Jinja2<3,>=2.10->nbinteract) (1.1.1)\n",
      "Requirement already satisfied: jsonschema!=2.5.0,>=2.4 in c:\\users\\manu\\appdata\\local\\programs\\python\\python38-32\\lib\\site-packages (from nbformat<5,>=4.4.0->nbinteract) (3.2.0)\n",
      "Requirement already satisfied: ipython-genutils in c:\\users\\manu\\appdata\\local\\programs\\python\\python38-32\\lib\\site-packages (from nbformat<5,>=4.4.0->nbinteract) (0.2.0)\n",
      "Requirement already satisfied: pandas in c:\\users\\manu\\appdata\\local\\programs\\python\\python38-32\\lib\\site-packages (from bqplot==0.11.0->nbinteract) (1.0.3)\n",
      "Requirement already satisfied: traittypes>=0.0.6 in c:\\users\\manu\\appdata\\local\\programs\\python\\python38-32\\lib\\site-packages (from bqplot==0.11.0->nbinteract) (0.2.1)\n",
      "Requirement already satisfied: six in c:\\users\\manu\\appdata\\local\\programs\\python\\python38-32\\lib\\site-packages (from traitlets<5,>=4.3->nbinteract) (1.14.0)\n",
      "Requirement already satisfied: decorator in c:\\users\\manu\\appdata\\local\\programs\\python\\python38-32\\lib\\site-packages (from traitlets<5,>=4.3->nbinteract) (4.4.2)\n",
      "Requirement already satisfied: pickleshare in c:\\users\\manu\\appdata\\local\\programs\\python\\python38-32\\lib\\site-packages (from IPython<8,>=6->nbinteract) (0.7.5)\n",
      "Requirement already satisfied: colorama; sys_platform == \"win32\" in c:\\users\\manu\\appdata\\local\\programs\\python\\python38-32\\lib\\site-packages (from IPython<8,>=6->nbinteract) (0.4.3)\n",
      "Requirement already satisfied: setuptools>=18.5 in c:\\users\\manu\\appdata\\local\\programs\\python\\python38-32\\lib\\site-packages (from IPython<8,>=6->nbinteract) (41.2.0)\n",
      "Requirement already satisfied: jedi>=0.10 in c:\\users\\manu\\appdata\\local\\programs\\python\\python38-32\\lib\\site-packages (from IPython<8,>=6->nbinteract) (0.16.0)\n",
      "Requirement already satisfied: prompt-toolkit!=3.0.0,!=3.0.1,<3.1.0,>=2.0.0 in c:\\users\\manu\\appdata\\local\\programs\\python\\python38-32\\lib\\site-packages (from IPython<8,>=6->nbinteract) (3.0.5)\n",
      "Requirement already satisfied: backcall in c:\\users\\manu\\appdata\\local\\programs\\python\\python38-32\\lib\\site-packages (from IPython<8,>=6->nbinteract) (0.1.0)\n",
      "Requirement already satisfied: ipykernel>=4.5.1 in c:\\users\\manu\\appdata\\local\\programs\\python\\python38-32\\lib\\site-packages (from ipywidgets<8,>=7.5.0->nbinteract) (5.2.0)\n",
      "Requirement already satisfied: widgetsnbextension~=3.5.0 in c:\\users\\manu\\appdata\\local\\programs\\python\\python38-32\\lib\\site-packages (from ipywidgets<8,>=7.5.0->nbinteract) (3.5.1)\n",
      "Requirement already satisfied: webencodings in c:\\users\\manu\\appdata\\local\\programs\\python\\python38-32\\lib\\site-packages (from bleach->nbconvert<6,>=5.3->nbinteract) (0.5.1)\n",
      "Requirement already satisfied: pywin32>=1.0; sys_platform == \"win32\" in c:\\users\\manu\\appdata\\local\\programs\\python\\python38-32\\lib\\site-packages (from jupyter-core->nbconvert<6,>=5.3->nbinteract) (227)\n",
      "Requirement already satisfied: pyrsistent>=0.14.0 in c:\\users\\manu\\appdata\\local\\programs\\python\\python38-32\\lib\\site-packages (from jsonschema!=2.5.0,>=2.4->nbformat<5,>=4.4.0->nbinteract) (0.16.0)\n",
      "Requirement already satisfied: attrs>=17.4.0 in c:\\users\\manu\\appdata\\local\\programs\\python\\python38-32\\lib\\site-packages (from jsonschema!=2.5.0,>=2.4->nbformat<5,>=4.4.0->nbinteract) (19.3.0)\n",
      "Requirement already satisfied: python-dateutil>=2.6.1 in c:\\users\\manu\\appdata\\local\\programs\\python\\python38-32\\lib\\site-packages (from pandas->bqplot==0.11.0->nbinteract) (2.8.1)\n",
      "Requirement already satisfied: pytz>=2017.2 in c:\\users\\manu\\appdata\\local\\programs\\python\\python38-32\\lib\\site-packages (from pandas->bqplot==0.11.0->nbinteract) (2019.3)\n",
      "Requirement already satisfied: parso>=0.5.2 in c:\\users\\manu\\appdata\\local\\programs\\python\\python38-32\\lib\\site-packages (from jedi>=0.10->IPython<8,>=6->nbinteract) (0.6.2)\n",
      "Requirement already satisfied: wcwidth in c:\\users\\manu\\appdata\\local\\programs\\python\\python38-32\\lib\\site-packages (from prompt-toolkit!=3.0.0,!=3.0.1,<3.1.0,>=2.0.0->IPython<8,>=6->nbinteract) (0.1.9)\n",
      "Requirement already satisfied: jupyter-client in c:\\users\\manu\\appdata\\local\\programs\\python\\python38-32\\lib\\site-packages (from ipykernel>=4.5.1->ipywidgets<8,>=7.5.0->nbinteract) (6.1.2)\n",
      "Requirement already satisfied: tornado>=4.2 in c:\\users\\manu\\appdata\\local\\programs\\python\\python38-32\\lib\\site-packages (from ipykernel>=4.5.1->ipywidgets<8,>=7.5.0->nbinteract) (6.0.4)\n",
      "Requirement already satisfied: notebook>=4.4.1 in c:\\users\\manu\\appdata\\local\\programs\\python\\python38-32\\lib\\site-packages (from widgetsnbextension~=3.5.0->ipywidgets<8,>=7.5.0->nbinteract) (6.0.3)\n",
      "Requirement already satisfied: pyzmq>=13 in c:\\users\\manu\\appdata\\local\\programs\\python\\python38-32\\lib\\site-packages (from jupyter-client->ipykernel>=4.5.1->ipywidgets<8,>=7.5.0->nbinteract) (19.0.0)\n",
      "Requirement already satisfied: Send2Trash in c:\\users\\manu\\appdata\\local\\programs\\python\\python38-32\\lib\\site-packages (from notebook>=4.4.1->widgetsnbextension~=3.5.0->ipywidgets<8,>=7.5.0->nbinteract) (1.5.0)\n",
      "Requirement already satisfied: terminado>=0.8.1 in c:\\users\\manu\\appdata\\local\\programs\\python\\python38-32\\lib\\site-packages (from notebook>=4.4.1->widgetsnbextension~=3.5.0->ipywidgets<8,>=7.5.0->nbinteract) (0.8.3)\n",
      "Requirement already satisfied: prometheus-client in c:\\users\\manu\\appdata\\local\\programs\\python\\python38-32\\lib\\site-packages (from notebook>=4.4.1->widgetsnbextension~=3.5.0->ipywidgets<8,>=7.5.0->nbinteract) (0.7.1)\n",
      "Requirement already satisfied: pywinpty>=0.5; os_name == \"nt\" in c:\\users\\manu\\appdata\\local\\programs\\python\\python38-32\\lib\\site-packages (from terminado>=0.8.1->notebook>=4.4.1->widgetsnbextension~=3.5.0->ipywidgets<8,>=7.5.0->nbinteract) (0.5.7)\n"
     ]
    }
   ],
   "source": [
    "!pip install nbinteract"
   ]
  },
  {
   "cell_type": "code",
   "execution_count": 17,
   "metadata": {},
   "outputs": [
    {
     "name": "stderr",
     "output_type": "stream",
     "text": [
      "UsageError: Line magic function `%nbinteract` not found.\n"
     ]
    }
   ],
   "source": [
    "%nbinteract init\n",
    "!nbinteract tutorial.ipynb\n",
    "from IPython.display import display, HTML\n",
    "display(HTML('<a href=\"/files/tutorial.html?download=1\" target=\"_blank\">Done! Click here to download the HTML file.</a>'))"
   ]
  },
  {
   "cell_type": "code",
   "execution_count": null,
   "metadata": {},
   "outputs": [],
   "source": []
  }
 ],
 "metadata": {
  "kernelspec": {
   "display_name": "Python 3",
   "language": "python",
   "name": "python3"
  },
  "language_info": {
   "codemirror_mode": {
    "name": "ipython",
    "version": 3
   },
   "file_extension": ".py",
   "mimetype": "text/x-python",
   "name": "python",
   "nbconvert_exporter": "python",
   "pygments_lexer": "ipython3",
   "version": "3.8.2"
  }
 },
 "nbformat": 4,
 "nbformat_minor": 2
}
